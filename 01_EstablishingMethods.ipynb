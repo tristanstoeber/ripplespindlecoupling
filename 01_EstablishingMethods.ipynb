{
 "cells": [
  {
   "cell_type": "code",
   "execution_count": 1,
   "metadata": {},
   "outputs": [],
   "source": [
    "import numpy as np\n",
    "import matplotlib.pyplot as plt\n",
    "import pandas as pd\n",
    "from pyxona import File\n",
    "import quantities as pq\n",
    "import ripple_detection as rd\n",
    "from scipy.signal import butter, lfilter\n",
    "import tools"
   ]
  },
  {
   "cell_type": "code",
   "execution_count": 2,
   "metadata": {},
   "outputs": [],
   "source": [
    "fnames = [\n",
    "    ['KKL196', 201015, 1],\n",
    "    ['KKL196', 201015, 2],\n",
    "    ['KKL196', 201016, 3],\n",
    "    ['KKL196', 201017, 3],\n",
    "    ['KKL196', 201018, 2],\n",
    "    ['KKL196', 201020, 1],  \n",
    "]\n",
    "\n",
    "df_fnames = pd.DataFrame(fnames, columns=['animal', 'date', 'session'])\n",
    "\n",
    "\n",
    "path = \"/home/jovyan/work/RippleSpindleCoupling/test_data/\""
   ]
  },
  {
   "cell_type": "markdown",
   "metadata": {},
   "source": [
    ">For ripple detection (Boyce et al., 2016; Nakashiba et al., 2009), the LFP obtained from CA1\n",
    "pyramidal cell layer was first band-pass filtered (100–250 Hz), and amplitude was calculated using\n",
    "the Hilbert transform. Ripple windows were characterized as signals that exceed the amplitude\n",
    "threshold (three times the standard deviation). Signals that were less than 50 ms apart were merged.\n",
    "\n",
    "> For spindle detection (Eschenko et al., 2006; Phillips et al., 2012), the LFP obtained from ACC\n",
    "was band-pass filtered (12–15 Hz), and amplitude was calculated using the Hilbert transform. Spindle\n",
    "windows were characterized as signals that exceed the amplitude threshold (two times the standard\n",
    "deviation), with minimum and maximum duration of 200 and 2000 ms, respectively. Signals that are\n",
    "less than 100 ms apart were merged."
   ]
  },
  {
   "cell_type": "code",
   "execution_count": 3,
   "metadata": {},
   "outputs": [],
   "source": [
    "params_spindles = {\n",
    "    'freq_min': 12,\n",
    "    'freq_max': 15,\n",
    "    'cheby1_ord': 4,\n",
    "    'cheby1_ripple': 0.1,\n",
    "    'dur_min': 0.15,\n",
    "    'dur_max': 0.5,\n",
    "    'dur_merge': 0.1,\n",
    "    'ampl_thresh': 1.5,\n",
    "    'return_info': \n",
    "        {'evts_ts_strtstop' : True,                                                                                                                                                                                                                                                                                                                                                                 \n",
    "         'evts_ts_center' : True,                                                                                                                                                                                    \n",
    "         'evts_ampl' : [-4, 4],\n",
    "         'evts_data' : True}\n",
    "}"
   ]
  },
  {
   "cell_type": "code",
   "execution_count": 4,
   "metadata": {},
   "outputs": [],
   "source": [
    "\n",
    "params_ripples = {\n",
    "    'freq_min': 100,\n",
    "    'freq_max': 250,\n",
    "    'cheby1_ord': 4,\n",
    "    'cheby1_ripple': 0.1,\n",
    "    'dur_min': 0.01,\n",
    "    'dur_max': 1.,\n",
    "#    'dur_merge': 0.05,\n",
    "    'dur_merge': False,\n",
    "    'ampl_thresh': 3.,\n",
    "    'return_info': \n",
    "        {'evts_ts_strtstop' : True,                                                                                                                                                                                                                                                                                                                                                                 \n",
    "         'evts_ts_center' : True,                                                                                                                                                                                    \n",
    "         'evts_ampl' : [-4, 4],\n",
    "         'evts_data' : True}\n",
    "}"
   ]
  },
  {
   "cell_type": "raw",
   "metadata": {},
   "source": [
    "for index, row in df_fnames.iterrows():\n",
    "    lfp = []\n",
    "\n",
    "    for name_i in ['fname_hpc', 'fname_ctx']:\n",
    "        fname_i = row[name_i]+'.set'\n",
    "        f = File(path+fname_i)\n",
    "        lfp_i = f.analog_signals[0]\n",
    "        assert lfp_i.sample_rate == sampling_rate\n",
    "        lfp.append(lfp_i.signal)\n",
    "\n",
    "    evnts_rppls, magn_rppls = tools.event_detection(\n",
    "        lfp[0],\n",
    "        sampling_rate,\n",
    "        return_magn=True,\n",
    "        **params_ripples)\n",
    "    evnts_spndls, magn_spndls = tools.event_detection(\n",
    "        lfp[1],\n",
    "        sampling_rate,\n",
    "        return_magn=True,\n",
    "        **params_spindles)    \n"
   ]
  },
  {
   "cell_type": "code",
   "execution_count": null,
   "metadata": {},
   "outputs": [
    {
     "name": "stderr",
     "output_type": "stream",
     "text": [
      "/opt/conda/lib/python3.8/site-packages/pyxona/core.py:589: FutureWarning: Passing (type, 1) or '1type' as a synonym of type is deprecated; in a future version of numpy, it will be understood as (type, (1,)) / '(1,)type'.\n",
      "  data = np.fromfile(f, dtype=sample_dtype, count=sample_count)\n"
     ]
    }
   ],
   "source": [
    "ls_df_rppls = []\n",
    "ls_df_spndls = []\n",
    "\n",
    "for index, row in df_fnames.iterrows():\n",
    "    fname = row['animal']+'_'+str(row['date'])+'_'+str(row['session'])+'.set'\n",
    "    f = File(path+fname)\n",
    "    lfp_hpc = f.analog_signals[0]\n",
    "    lfp_ctx = f.analog_signals[1]\n",
    "\n",
    "    df_rppls_i = tools.event_detection(\n",
    "        lfp_hpc.signal.magnitude,\n",
    "        lfp_hpc.sample_rate.magnitude,\n",
    "        **params_ripples)\n",
    "        \n",
    "    df_spndls_i = tools.event_detection(\n",
    "        lfp_ctx.signal.magnitude,\n",
    "        lfp_ctx.sample_rate.magnitude,\n",
    "        **params_spindles)\n",
    "    \n",
    "    # merge with df_fnames\n",
    "    d = row.to_dict()\n",
    "    df_fnames_i = pd.DataFrame({k: [v] for k, v in d.items()})\n",
    "    df_fnames_i['tmp'] = 1\n",
    "    \n",
    "    df_rppls_i['tmp'] = 1\n",
    "    df_rppls_i = pd.merge(df_fnames_i, df_rppls_i, on=['tmp'])\n",
    "    df_rppls_i.drop('tmp', axis=1, inplace=True)\n",
    "\n",
    "    df_spndls_i['tmp'] = 1\n",
    "    df_spndls_i = pd.merge(df_fnames_i, df_spndls_i, on=['tmp'])\n",
    "    df_spndls_i.drop('tmp', axis=1, inplace=True)\n",
    "\n",
    "    ls_df_rppls.append(df_rppls_i)\n",
    "    ls_df_spndls.append(df_spndls_i)\n",
    "    \n",
    "df_rppls = pd.concat(ls_df_rppls, ignore_index=True, sort=False)\n",
    "df_spndls = pd.concat(ls_df_spndls, ignore_index=True, sort=False)"
   ]
  },
  {
   "cell_type": "code",
   "execution_count": null,
   "metadata": {},
   "outputs": [],
   "source": [
    "for index, row in df_fnames.iterrows():\n",
    "    fname = row['animal']+'_'+str(row['date'])+'_'+str(row['session'])+'.set'\n",
    "    f = File(path+fname)\n",
    "    lfp_hpc = f.analog_signals[0]\n",
    "    lfp_ctx = f.analog_signals[1]"
   ]
  },
  {
   "cell_type": "code",
   "execution_count": null,
   "metadata": {},
   "outputs": [],
   "source": [
    "# TODO:# Visualize ripples, Spindles, make sure you are really computing the right thing.\n"
   ]
  },
  {
   "cell_type": "markdown",
   "metadata": {},
   "source": [
    "### Event rate by animal"
   ]
  },
  {
   "cell_type": "code",
   "execution_count": null,
   "metadata": {},
   "outputs": [],
   "source": [
    "# We take last ripple event as timepoint when recording stops. Imperfect, but okay for now.\n",
    "t_trial = df_rppls.groupby(['animal', 'date', 'session'])['evts_ts_center'].max()\n",
    "t_trial"
   ]
  },
  {
   "cell_type": "code",
   "execution_count": null,
   "metadata": {},
   "outputs": [],
   "source": [
    "n_rppls_trial = df_rppls.groupby(['animal', 'date', 'session']).size()\n",
    "n_rppls_trial"
   ]
  },
  {
   "cell_type": "code",
   "execution_count": null,
   "metadata": {},
   "outputs": [],
   "source": [
    "n_spndls_trial = df_spndls.groupby(['animal', 'date', 'session']).size()\n",
    "n_spndls_trial"
   ]
  },
  {
   "cell_type": "code",
   "execution_count": null,
   "metadata": {},
   "outputs": [],
   "source": [
    "n_rppls_trial/t_trial"
   ]
  },
  {
   "cell_type": "code",
   "execution_count": null,
   "metadata": {},
   "outputs": [],
   "source": [
    "n_spndls_trial/t_trial"
   ]
  },
  {
   "cell_type": "code",
   "execution_count": null,
   "metadata": {},
   "outputs": [],
   "source": []
  }
 ],
 "metadata": {
  "kernelspec": {
   "display_name": "Python 3",
   "language": "python",
   "name": "python3"
  },
  "language_info": {
   "codemirror_mode": {
    "name": "ipython",
    "version": 3
   },
   "file_extension": ".py",
   "mimetype": "text/x-python",
   "name": "python",
   "nbconvert_exporter": "python",
   "pygments_lexer": "ipython3",
   "version": "3.8.6"
  }
 },
 "nbformat": 4,
 "nbformat_minor": 4
}
